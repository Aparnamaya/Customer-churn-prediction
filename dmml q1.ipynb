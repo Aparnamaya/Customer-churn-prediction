{
 "cells": [
  {
   "cell_type": "code",
   "execution_count": 43,
   "id": "89d6fb5a",
   "metadata": {},
   "outputs": [],
   "source": [
    "import pandas as pd\n",
    "import matplotlib.pyplot as plt\n",
    "from sklearn.model_selection import train_test_split\n",
    "from sklearn.tree import DecisionTreeClassifier\n",
    "from sklearn.metrics import accuracy_score\n",
    "from sklearn.preprocessing import LabelEncoder\n",
    "from sklearn.ensemble import RandomForestClassifier\n",
    "from sklearn.ensemble import AdaBoostClassifier\n",
    "from sklearn.cluster import KMeans\n",
    "from sklearn.model_selection import GridSearchCV\n",
    "from sklearn.linear_model import LogisticRegression"
   ]
  },
  {
   "cell_type": "code",
   "execution_count": 23,
   "id": "ab58f2c1",
   "metadata": {},
   "outputs": [],
   "source": [
    "data = pd.read_csv(\"C:\\\\Users\\\\prana\\\\OneDrive\\\\Desktop\\\\customer-churn-data.csv\")\n"
   ]
  },
  {
   "cell_type": "code",
   "execution_count": 24,
   "id": "abf013cb",
   "metadata": {},
   "outputs": [],
   "source": [
    "label_encoder = LabelEncoder()\n",
    "categorical_cols = ['Gender','EmailOptIn','PromotionResponse','Churn']\n",
    "for col in categorical_cols:\n",
    "    data[col] = label_encoder.fit_transform(data[col])"
   ]
  },
  {
   "cell_type": "code",
   "execution_count": 25,
   "id": "cc764360",
   "metadata": {},
   "outputs": [],
   "source": [
    "x = data.drop('Churn',axis=1)\n",
    "y = data['Churn']"
   ]
  },
  {
   "cell_type": "code",
   "execution_count": 35,
   "id": "4cfe5957",
   "metadata": {},
   "outputs": [],
   "source": [
    "x_train, x_test, y_train, y_test = train_test_split(x, y, test_size=0.2, random_state=42)"
   ]
  },
  {
   "cell_type": "code",
   "execution_count": 36,
   "id": "1e1f2e8f",
   "metadata": {},
   "outputs": [
    {
     "name": "stdout",
     "output_type": "stream",
     "text": [
      "0.58\n"
     ]
    }
   ],
   "source": [
    "max_acc=0\n",
    "for i in range(1,50):\n",
    "    rf_classifier = RandomForestClassifier(n_estimators=100, random_state=i)\n",
    "    rf_classifier.fit(x_train, y_train)\n",
    "    y_pred = rf_classifier.predict(x_test)\n",
    "    accuracy = accuracy_score(y_test, y_pred)\n",
    "    #print(accuracy)\n",
    "    if accuracy>max_acc:\n",
    "        max_acc=accuracy\n",
    "print(max_acc)"
   ]
  },
  {
   "cell_type": "code",
   "execution_count": null,
   "id": "d1f6e073",
   "metadata": {},
   "outputs": [],
   "source": [
    "max_acc=0\n",
    "for i in range(1,50):\n",
    "    rf_classifier = RandomForestClassifier(n_estimators=100, random_state=i)\n",
    "    rf_classifier.fit(x_train, y_train)\n",
    "    y_pred = rf_classifier.predict(x_test)\n",
    "    accuracy = accuracy_score(y_test, y_pred)\n",
    "    #print(accuracy)\n",
    "    if accuracy>max_acc:\n",
    "        max_acc=accuracy\n",
    "print(max_acc)"
   ]
  },
  {
   "cell_type": "code",
   "execution_count": 26,
   "id": "50470c96",
   "metadata": {},
   "outputs": [],
   "source": [
    "kmeans = KMeans(n_clusters=50)"
   ]
  },
  {
   "cell_type": "code",
   "execution_count": 27,
   "id": "edb63558",
   "metadata": {},
   "outputs": [
    {
     "name": "stderr",
     "output_type": "stream",
     "text": [
      "C:\\Users\\prana\\Desktop\\New folder\\Lib\\site-packages\\sklearn\\cluster\\_kmeans.py:1412: FutureWarning: The default value of `n_init` will change from 10 to 'auto' in 1.4. Set the value of `n_init` explicitly to suppress the warning\n",
      "  super()._check_params_vs_input(X, default_n_init=10)\n"
     ]
    },
    {
     "data": {
      "text/html": [
       "<style>#sk-container-id-2 {color: black;}#sk-container-id-2 pre{padding: 0;}#sk-container-id-2 div.sk-toggleable {background-color: white;}#sk-container-id-2 label.sk-toggleable__label {cursor: pointer;display: block;width: 100%;margin-bottom: 0;padding: 0.3em;box-sizing: border-box;text-align: center;}#sk-container-id-2 label.sk-toggleable__label-arrow:before {content: \"▸\";float: left;margin-right: 0.25em;color: #696969;}#sk-container-id-2 label.sk-toggleable__label-arrow:hover:before {color: black;}#sk-container-id-2 div.sk-estimator:hover label.sk-toggleable__label-arrow:before {color: black;}#sk-container-id-2 div.sk-toggleable__content {max-height: 0;max-width: 0;overflow: hidden;text-align: left;background-color: #f0f8ff;}#sk-container-id-2 div.sk-toggleable__content pre {margin: 0.2em;color: black;border-radius: 0.25em;background-color: #f0f8ff;}#sk-container-id-2 input.sk-toggleable__control:checked~div.sk-toggleable__content {max-height: 200px;max-width: 100%;overflow: auto;}#sk-container-id-2 input.sk-toggleable__control:checked~label.sk-toggleable__label-arrow:before {content: \"▾\";}#sk-container-id-2 div.sk-estimator input.sk-toggleable__control:checked~label.sk-toggleable__label {background-color: #d4ebff;}#sk-container-id-2 div.sk-label input.sk-toggleable__control:checked~label.sk-toggleable__label {background-color: #d4ebff;}#sk-container-id-2 input.sk-hidden--visually {border: 0;clip: rect(1px 1px 1px 1px);clip: rect(1px, 1px, 1px, 1px);height: 1px;margin: -1px;overflow: hidden;padding: 0;position: absolute;width: 1px;}#sk-container-id-2 div.sk-estimator {font-family: monospace;background-color: #f0f8ff;border: 1px dotted black;border-radius: 0.25em;box-sizing: border-box;margin-bottom: 0.5em;}#sk-container-id-2 div.sk-estimator:hover {background-color: #d4ebff;}#sk-container-id-2 div.sk-parallel-item::after {content: \"\";width: 100%;border-bottom: 1px solid gray;flex-grow: 1;}#sk-container-id-2 div.sk-label:hover label.sk-toggleable__label {background-color: #d4ebff;}#sk-container-id-2 div.sk-serial::before {content: \"\";position: absolute;border-left: 1px solid gray;box-sizing: border-box;top: 0;bottom: 0;left: 50%;z-index: 0;}#sk-container-id-2 div.sk-serial {display: flex;flex-direction: column;align-items: center;background-color: white;padding-right: 0.2em;padding-left: 0.2em;position: relative;}#sk-container-id-2 div.sk-item {position: relative;z-index: 1;}#sk-container-id-2 div.sk-parallel {display: flex;align-items: stretch;justify-content: center;background-color: white;position: relative;}#sk-container-id-2 div.sk-item::before, #sk-container-id-2 div.sk-parallel-item::before {content: \"\";position: absolute;border-left: 1px solid gray;box-sizing: border-box;top: 0;bottom: 0;left: 50%;z-index: -1;}#sk-container-id-2 div.sk-parallel-item {display: flex;flex-direction: column;z-index: 1;position: relative;background-color: white;}#sk-container-id-2 div.sk-parallel-item:first-child::after {align-self: flex-end;width: 50%;}#sk-container-id-2 div.sk-parallel-item:last-child::after {align-self: flex-start;width: 50%;}#sk-container-id-2 div.sk-parallel-item:only-child::after {width: 0;}#sk-container-id-2 div.sk-dashed-wrapped {border: 1px dashed gray;margin: 0 0.4em 0.5em 0.4em;box-sizing: border-box;padding-bottom: 0.4em;background-color: white;}#sk-container-id-2 div.sk-label label {font-family: monospace;font-weight: bold;display: inline-block;line-height: 1.2em;}#sk-container-id-2 div.sk-label-container {text-align: center;}#sk-container-id-2 div.sk-container {/* jupyter's `normalize.less` sets `[hidden] { display: none; }` but bootstrap.min.css set `[hidden] { display: none !important; }` so we also need the `!important` here to be able to override the default hidden behavior on the sphinx rendered scikit-learn.org. See: https://github.com/scikit-learn/scikit-learn/issues/21755 */display: inline-block !important;position: relative;}#sk-container-id-2 div.sk-text-repr-fallback {display: none;}</style><div id=\"sk-container-id-2\" class=\"sk-top-container\"><div class=\"sk-text-repr-fallback\"><pre>KMeans(n_clusters=50)</pre><b>In a Jupyter environment, please rerun this cell to show the HTML representation or trust the notebook. <br />On GitHub, the HTML representation is unable to render, please try loading this page with nbviewer.org.</b></div><div class=\"sk-container\" hidden><div class=\"sk-item\"><div class=\"sk-estimator sk-toggleable\"><input class=\"sk-toggleable__control sk-hidden--visually\" id=\"sk-estimator-id-2\" type=\"checkbox\" checked><label for=\"sk-estimator-id-2\" class=\"sk-toggleable__label sk-toggleable__label-arrow\">KMeans</label><div class=\"sk-toggleable__content\"><pre>KMeans(n_clusters=50)</pre></div></div></div></div></div>"
      ],
      "text/plain": [
       "KMeans(n_clusters=50)"
      ]
     },
     "execution_count": 27,
     "metadata": {},
     "output_type": "execute_result"
    }
   ],
   "source": [
    "kmeans.fit(x)"
   ]
  },
  {
   "cell_type": "code",
   "execution_count": 29,
   "id": "068b0fb0",
   "metadata": {},
   "outputs": [],
   "source": [
    "cluster_assignments = kmeans.labels_\n",
    "#print(cluster_assignments)"
   ]
  },
  {
   "cell_type": "markdown",
   "id": "87e05f1f",
   "metadata": {},
   "source": [
    "In a dictionary, storing the no of points labeled 0 and 1 as well as list of data points corresponding to label 0 and 1 in a cluster."
   ]
  },
  {
   "cell_type": "code",
   "execution_count": 10,
   "id": "47ffdd97",
   "metadata": {},
   "outputs": [
    {
     "name": "stdout",
     "output_type": "stream",
     "text": [
      "{4: [11, 9, [79, 117, 124, 161, 162, 193, 195, 199, 242, 247, 375], [0, 13, 19, 26, 49, 168, 175, 326, 401]], 3: [9, 11, [1, 42, 87, 114, 149, 170, 201, 260, 288], [3, 20, 22, 53, 68, 137, 178, 236, 248, 266, 307]], 22: [11, 5, [54, 64, 123, 140, 172, 289, 308, 345, 353, 366, 427], [2, 243, 279, 413, 447]], 30: [11, 15, [4, 38, 113, 187, 196, 229, 255, 322, 374, 419, 499], [92, 121, 261, 271, 290, 298, 305, 350, 360, 384, 424, 440, 476, 481, 493]], 20: [11, 7, [5, 63, 120, 129, 176, 188, 194, 205, 334, 367, 408], [116, 127, 142, 145, 154, 180, 273]], 11: [9, 16, [6, 46, 52, 69, 89, 99, 181, 268, 301], [11, 77, 82, 84, 86, 100, 133, 136, 148, 165, 202, 207, 239, 258, 264, 292]], 29: [14, 9, [7, 50, 91, 112, 173, 211, 216, 224, 269, 293, 296, 343, 362, 416], [30, 34, 106, 139, 159, 160, 200, 223, 511]], 19: [8, 11, [78, 108, 141, 209, 231, 272, 278, 433], [8, 23, 31, 32, 41, 44, 66, 95, 103, 155, 341]], 37: [8, 12, [9, 249, 265, 364, 368, 418, 463, 526], [28, 36, 48, 71, 80, 182, 257, 270, 285, 336, 518, 550]], 27: [15, 6, [10, 17, 21, 39, 62, 111, 128, 174, 192, 198, 302, 303, 352, 378, 383], [151, 169, 281, 283, 294, 357]], 13: [16, 12, [12, 15, 93, 125, 147, 157, 197, 206, 263, 295, 312, 316, 340, 356, 382, 399], [75, 104, 105, 126, 143, 299, 325, 337, 385, 388, 389, 436]], 10: [6, 12, [153, 156, 204, 208, 213, 230], [14, 16, 183, 225, 246, 254, 319, 348, 365, 380, 394, 415]], 44: [8, 10, [18, 27, 96, 191, 304, 318, 330, 470], [35, 51, 85, 94, 152, 163, 253, 262, 280, 306]], 45: [5, 10, [57, 118, 203, 245, 338], [24, 56, 164, 179, 189, 217, 259, 315, 335, 377]], 41: [11, 6, [25, 37, 58, 166, 214, 252, 267, 275, 332, 441, 456], [115, 227, 237, 321, 328, 344]], 26: [12, 11, [29, 61, 65, 73, 81, 97, 102, 130, 215, 219, 276, 282], [33, 43, 45, 67, 76, 83, 171, 190, 222, 241, 363]], 5: [10, 13, [40, 74, 107, 150, 234, 300, 310, 376, 455, 464], [88, 134, 167, 221, 232, 233, 277, 359, 361, 370, 396, 397, 482]], 16: [9, 10, [47, 110, 122, 131, 226, 256, 477, 517, 547], [109, 132, 212, 235, 244, 371, 379, 400, 445, 458]], 38: [12, 10, [55, 138, 158, 287, 314, 351, 428, 439, 459, 462, 485, 553], [60, 98, 184, 220, 291, 311, 414, 442, 474, 524]], 7: [11, 12, [70, 90, 119, 135, 144, 177, 186, 228, 324, 372, 390], [59, 101, 146, 218, 240, 286, 297, 355, 387, 395, 425, 448]], 2: [12, 17, [185, 238, 331, 404, 406, 409, 434, 435, 467, 554, 569, 610], [72, 251, 284, 309, 323, 329, 333, 347, 386, 437, 443, 449, 452, 466, 473, 513, 514]], 25: [5, 10, [210, 274, 505, 540, 556], [313, 320, 354, 393, 421, 509, 575, 579, 607, 609]], 28: [9, 13, [346, 349, 490, 504, 538, 543, 597, 633, 652], [250, 317, 402, 407, 412, 438, 446, 570, 582, 599, 702, 716, 768]], 12: [8, 8, [327, 391, 403, 487, 544, 578, 611, 671], [381, 491, 495, 497, 522, 566, 621, 686]], 31: [12, 20, [573, 596, 601, 620, 635, 681, 739, 743, 767, 834, 947, 962], [339, 398, 460, 468, 472, 525, 549, 560, 571, 612, 636, 675, 709, 802, 851, 859, 881, 907, 939, 961]], 34: [9, 8, [342, 392, 411, 422, 430, 444, 478, 608, 638], [358, 405, 417, 423, 431, 475, 537, 592]], 46: [6, 6, [369, 489, 558, 625, 674, 698], [429, 432, 480, 483, 536, 586]], 48: [6, 6, [498, 546, 594, 617, 651, 715], [373, 453, 457, 501, 669, 737]], 35: [9, 11, [410, 450, 527, 584, 587, 613, 641, 755, 840], [479, 529, 539, 588, 660, 684, 711, 773, 798, 828, 904]], 0: [11, 5, [420, 451, 454, 471, 492, 507, 530, 533, 548, 567, 628], [465, 494, 500, 503, 657]], 43: [6, 10, [619, 624, 667, 679, 688, 853], [426, 469, 603, 665, 673, 682, 724, 774, 894, 926]], 33: [9, 13, [461, 486, 488, 561, 576, 595, 752, 757, 777], [508, 515, 520, 523, 551, 552, 564, 580, 605, 661, 689, 708, 733]], 8: [5, 12, [484, 502, 506, 555, 847], [519, 557, 581, 585, 648, 672, 707, 720, 756, 793, 804, 974]], 42: [8, 9, [496, 630, 796, 827, 858, 862, 936, 987], [512, 670, 683, 717, 776, 788, 861, 880, 914]], 14: [13, 14, [516, 629, 637, 668, 678, 695, 701, 842, 903, 919, 948, 955, 981], [510, 545, 590, 614, 627, 646, 790, 830, 934, 954, 963, 965, 980, 994]], 15: [16, 13, [600, 606, 618, 634, 659, 664, 693, 731, 734, 817, 822, 910, 956, 966, 976, 983], [521, 542, 565, 645, 738, 807, 852, 873, 950, 968, 977, 979, 982]], 36: [8, 5, [528, 562, 713, 806, 811, 871, 921, 925], [699, 753, 818, 825, 917]], 18: [11, 13, [531, 593, 615, 735, 769, 789, 791, 812, 915, 931, 969], [563, 568, 765, 781, 783, 845, 882, 891, 941, 945, 996, 998, 999]], 47: [10, 11, [532, 656, 754, 759, 820, 838, 901, 912, 922, 929], [604, 640, 694, 703, 710, 785, 837, 864, 865, 883, 952]], 24: [13, 13, [572, 589, 616, 655, 658, 691, 718, 780, 808, 832, 855, 884, 953], [534, 650, 685, 712, 742, 778, 794, 805, 810, 815, 916, 946, 957]], 39: [9, 13, [535, 574, 622, 666, 705, 744, 763, 803, 819], [644, 653, 676, 690, 700, 730, 760, 888, 890, 930, 960, 986, 990]], 49: [9, 11, [541, 696, 714, 727, 772, 792, 892, 928, 935], [623, 643, 692, 761, 786, 841, 870, 924, 927, 967, 985]], 1: [10, 12, [559, 602, 766, 771, 782, 835, 849, 942, 989, 993], [626, 775, 846, 897, 898, 908, 909, 932, 958, 964, 972, 992]], 6: [10, 13, [577, 598, 662, 746, 813, 854, 900, 933, 995, 997], [591, 680, 704, 721, 729, 741, 751, 784, 799, 800, 836, 877, 902]], 40: [4, 11, [722, 750, 920, 973], [583, 654, 747, 795, 814, 829, 839, 857, 869, 878, 978]], 21: [10, 12, [677, 723, 732, 749, 770, 821, 863, 872, 879, 899], [631, 725, 779, 831, 867, 886, 906, 911, 913, 951, 975, 988]], 9: [12, 8, [642, 719, 762, 823, 843, 844, 876, 887, 889, 938, 959, 984], [632, 740, 748, 848, 856, 875, 940, 949]], 17: [9, 9, [758, 787, 797, 816, 893, 896, 905, 923, 944], [639, 687, 764, 809, 826, 833, 868, 895, 943]], 32: [5, 7, [728, 824, 866, 885, 971], [647, 706, 726, 860, 918, 937, 970]], 23: [3, 6, [663, 697, 991], [649, 736, 745, 801, 850, 874]]}\n"
     ]
    }
   ],
   "source": [
    "d={}\n",
    "for i in range(1000):\n",
    "    if cluster_assignments[i] in d:\n",
    "        if data.iloc[i]['Churn']==0:\n",
    "            d[cluster_assignments[i]][0]+=1\n",
    "            d[cluster_assignments[i]][2]+=[i]\n",
    "        else:\n",
    "            d[cluster_assignments[i]][1]+=1\n",
    "            d[cluster_assignments[i]][3]+=[i]\n",
    "    else:\n",
    "        if data.iloc[i]['Churn']==0:\n",
    "            d[cluster_assignments[i]]=[1,0,[i],[]]\n",
    "        else:\n",
    "            d[cluster_assignments[i]]=[0,1,[],[i]]\n",
    "print(d)\n"
   ]
  },
  {
   "cell_type": "code",
   "execution_count": 30,
   "id": "ddd30444",
   "metadata": {},
   "outputs": [],
   "source": [
    "l=[i for i in range(1000)]\n",
    "data['row_no']=l\n",
    "#print(data)"
   ]
  },
  {
   "cell_type": "markdown",
   "id": "e49ca631",
   "metadata": {},
   "source": [
    "If a cluster predicts a good majority of a particular value, delete minority values from the starting data"
   ]
  },
  {
   "cell_type": "code",
   "execution_count": 13,
   "id": "0c3f0a71",
   "metadata": {},
   "outputs": [
    {
     "name": "stdout",
     "output_type": "stream",
     "text": [
      "4 [40]\n"
     ]
    }
   ],
   "source": [
    "c=0\n",
    "clusters=[]\n",
    "for i in d:\n",
    "    if d[i][0]<0.4*d[i][1]:\n",
    "        clusters.append(i)\n",
    "        for j in d[i][2]:\n",
    "            n=len(data)\n",
    "            ind=0       \n",
    "            for k in range(n):\n",
    "                if j==data.iloc[ind]['row_no']:\n",
    "                    data = data.drop(data.index[ind])\n",
    "                    c=c+1\n",
    "                    break\n",
    "                else:\n",
    "                    ind=ind+1\n",
    "    elif d[i][1]<0.4*d[i][0]:\n",
    "        clusters.append(i)\n",
    "        for j in d[i][3]:\n",
    "            n=len(data)\n",
    "            ind=0\n",
    "            for k in range(n):\n",
    "                if j==data.iloc[ind]['row_no']:\n",
    "                    data = data.drop(data.index[ind])\n",
    "                    c=c+1\n",
    "                    break\n",
    "                else:\n",
    "                    ind=ind+1\n",
    "print(c,clusters)\n",
    "    \n",
    "\n",
    "            \n"
   ]
  },
  {
   "cell_type": "code",
   "execution_count": 16,
   "id": "978e3685",
   "metadata": {},
   "outputs": [],
   "source": [
    "x = data.drop('Churn',axis=1)\n",
    "y = data['Churn']"
   ]
  },
  {
   "cell_type": "code",
   "execution_count": 17,
   "id": "07ef88a3",
   "metadata": {},
   "outputs": [],
   "source": [
    "x_train, x_test, y_train, y_test = train_test_split(x, y, test_size=0.2, random_state=42)"
   ]
  },
  {
   "cell_type": "code",
   "execution_count": 18,
   "id": "20a90097",
   "metadata": {},
   "outputs": [
    {
     "name": "stdout",
     "output_type": "stream",
     "text": [
      "Accuracy: 0.525\n"
     ]
    }
   ],
   "source": [
    "rf_classifier = RandomForestClassifier(n_estimators=1000, random_state=42)\n",
    "rf_classifier.fit(x_train, y_train)\n",
    "y_pred = rf_classifier.predict(x_test)\n",
    "accuracy = accuracy_score(y_test, y_pred)\n",
    "print(\"Accuracy:\", accuracy)"
   ]
  },
  {
   "cell_type": "code",
   "execution_count": 33,
   "id": "1e85ff5c",
   "metadata": {},
   "outputs": [],
   "source": [
    "data = pd.read_csv(\"C:\\\\Users\\\\prana\\\\OneDrive\\\\Desktop\\\\customer-churn-data.csv\")\n",
    "label_encoder = LabelEncoder()\n",
    "categorical_cols = ['Gender','EmailOptIn','PromotionResponse','Churn']\n",
    "for col in categorical_cols:\n",
    "    data[col] = label_encoder.fit_transform(data[col])\n",
    "x = data.drop('Churn',axis=1)\n",
    "y = data['Churn']\n",
    "x_train, x_test, y_train, y_test = train_test_split(x, y, test_size=0.2, random_state=42)"
   ]
  },
  {
   "cell_type": "code",
   "execution_count": 34,
   "id": "e26c531e",
   "metadata": {},
   "outputs": [
    {
     "name": "stdout",
     "output_type": "stream",
     "text": [
      "Best parameters found: {'max_depth': 1, 'min_samples_split': 2}\n",
      "Best cross-validation score: 0.5187499999999999\n"
     ]
    },
    {
     "data": {
      "text/plain": [
       "'\\'y_pred = grid_search.predict(x_test)\\naccuracy = accuracy_score(y_test, y_pred)\\nprint(\"Accuracy:\", accuracy)'"
      ]
     },
     "execution_count": 34,
     "metadata": {},
     "output_type": "execute_result"
    }
   ],
   "source": [
    "rf_classifier = RandomForestClassifier(n_estimators=1000,random_state=42)\n",
    "param_grid = {\n",
    "    'max_depth': [i for i in range(1,50)],\n",
    "    'min_samples_split': [i for i in range(2,7)]\n",
    "}\n",
    "\n",
    "\n",
    "grid_search = GridSearchCV(estimator=rf_classifier, param_grid=param_grid, cv=5)\n",
    "grid_search.fit(x_train,y_train)\n",
    "print(\"Best parameters found:\", grid_search.best_params_)\n",
    "print(\"Best cross-validation score:\", grid_search.best_score_)\n",
    "''''y_pred = grid_search.predict(x_test)\n",
    "accuracy = accuracy_score(y_test, y_pred)\n",
    "print(\"Accuracy:\", accuracy)'''"
   ]
  },
  {
   "cell_type": "code",
   "execution_count": 21,
   "id": "4103ccb1",
   "metadata": {},
   "outputs": [
    {
     "name": "stdout",
     "output_type": "stream",
     "text": [
      "Accuracy: 0.545\n"
     ]
    }
   ],
   "source": [
    "rf_classifier = RandomForestClassifier(n_estimators=1000, random_state=42,max_depth=1,min_samples_split=2)\n",
    "rf_classifier.fit(x_train, y_train)\n",
    "y_pred = rf_classifier.predict(x_test)\n",
    "accuracy = accuracy_score(y_test, y_pred)\n",
    "print(\"Accuracy:\", accuracy)"
   ]
  },
  {
   "cell_type": "markdown",
   "id": "7a8bdb8e",
   "metadata": {},
   "source": [
    "# b)Adaboost"
   ]
  },
  {
   "cell_type": "code",
   "execution_count": 59,
   "id": "193ea8bc",
   "metadata": {},
   "outputs": [],
   "source": [
    "# Create a base decision tree classifier\n",
    "base_classifier = DecisionTreeClassifier(max_depth=10)\n",
    "\n",
    "# Create an AdaBoost classifier\n",
    "adaboost_classifier = AdaBoostClassifier(base_estimator=base_classifier, n_estimators=50, learning_rate=0.2)\n"
   ]
  },
  {
   "cell_type": "code",
   "execution_count": 60,
   "id": "4cec0cf0",
   "metadata": {},
   "outputs": [
    {
     "name": "stderr",
     "output_type": "stream",
     "text": [
      "C:\\Users\\prana\\Desktop\\New folder\\Lib\\site-packages\\sklearn\\ensemble\\_base.py:156: FutureWarning: `base_estimator` was renamed to `estimator` in version 1.2 and will be removed in 1.4.\n",
      "  warnings.warn(\n"
     ]
    },
    {
     "data": {
      "text/html": [
       "<style>#sk-container-id-10 {color: black;}#sk-container-id-10 pre{padding: 0;}#sk-container-id-10 div.sk-toggleable {background-color: white;}#sk-container-id-10 label.sk-toggleable__label {cursor: pointer;display: block;width: 100%;margin-bottom: 0;padding: 0.3em;box-sizing: border-box;text-align: center;}#sk-container-id-10 label.sk-toggleable__label-arrow:before {content: \"▸\";float: left;margin-right: 0.25em;color: #696969;}#sk-container-id-10 label.sk-toggleable__label-arrow:hover:before {color: black;}#sk-container-id-10 div.sk-estimator:hover label.sk-toggleable__label-arrow:before {color: black;}#sk-container-id-10 div.sk-toggleable__content {max-height: 0;max-width: 0;overflow: hidden;text-align: left;background-color: #f0f8ff;}#sk-container-id-10 div.sk-toggleable__content pre {margin: 0.2em;color: black;border-radius: 0.25em;background-color: #f0f8ff;}#sk-container-id-10 input.sk-toggleable__control:checked~div.sk-toggleable__content {max-height: 200px;max-width: 100%;overflow: auto;}#sk-container-id-10 input.sk-toggleable__control:checked~label.sk-toggleable__label-arrow:before {content: \"▾\";}#sk-container-id-10 div.sk-estimator input.sk-toggleable__control:checked~label.sk-toggleable__label {background-color: #d4ebff;}#sk-container-id-10 div.sk-label input.sk-toggleable__control:checked~label.sk-toggleable__label {background-color: #d4ebff;}#sk-container-id-10 input.sk-hidden--visually {border: 0;clip: rect(1px 1px 1px 1px);clip: rect(1px, 1px, 1px, 1px);height: 1px;margin: -1px;overflow: hidden;padding: 0;position: absolute;width: 1px;}#sk-container-id-10 div.sk-estimator {font-family: monospace;background-color: #f0f8ff;border: 1px dotted black;border-radius: 0.25em;box-sizing: border-box;margin-bottom: 0.5em;}#sk-container-id-10 div.sk-estimator:hover {background-color: #d4ebff;}#sk-container-id-10 div.sk-parallel-item::after {content: \"\";width: 100%;border-bottom: 1px solid gray;flex-grow: 1;}#sk-container-id-10 div.sk-label:hover label.sk-toggleable__label {background-color: #d4ebff;}#sk-container-id-10 div.sk-serial::before {content: \"\";position: absolute;border-left: 1px solid gray;box-sizing: border-box;top: 0;bottom: 0;left: 50%;z-index: 0;}#sk-container-id-10 div.sk-serial {display: flex;flex-direction: column;align-items: center;background-color: white;padding-right: 0.2em;padding-left: 0.2em;position: relative;}#sk-container-id-10 div.sk-item {position: relative;z-index: 1;}#sk-container-id-10 div.sk-parallel {display: flex;align-items: stretch;justify-content: center;background-color: white;position: relative;}#sk-container-id-10 div.sk-item::before, #sk-container-id-10 div.sk-parallel-item::before {content: \"\";position: absolute;border-left: 1px solid gray;box-sizing: border-box;top: 0;bottom: 0;left: 50%;z-index: -1;}#sk-container-id-10 div.sk-parallel-item {display: flex;flex-direction: column;z-index: 1;position: relative;background-color: white;}#sk-container-id-10 div.sk-parallel-item:first-child::after {align-self: flex-end;width: 50%;}#sk-container-id-10 div.sk-parallel-item:last-child::after {align-self: flex-start;width: 50%;}#sk-container-id-10 div.sk-parallel-item:only-child::after {width: 0;}#sk-container-id-10 div.sk-dashed-wrapped {border: 1px dashed gray;margin: 0 0.4em 0.5em 0.4em;box-sizing: border-box;padding-bottom: 0.4em;background-color: white;}#sk-container-id-10 div.sk-label label {font-family: monospace;font-weight: bold;display: inline-block;line-height: 1.2em;}#sk-container-id-10 div.sk-label-container {text-align: center;}#sk-container-id-10 div.sk-container {/* jupyter's `normalize.less` sets `[hidden] { display: none; }` but bootstrap.min.css set `[hidden] { display: none !important; }` so we also need the `!important` here to be able to override the default hidden behavior on the sphinx rendered scikit-learn.org. See: https://github.com/scikit-learn/scikit-learn/issues/21755 */display: inline-block !important;position: relative;}#sk-container-id-10 div.sk-text-repr-fallback {display: none;}</style><div id=\"sk-container-id-10\" class=\"sk-top-container\"><div class=\"sk-text-repr-fallback\"><pre>AdaBoostClassifier(base_estimator=DecisionTreeClassifier(max_depth=10),\n",
       "                   learning_rate=0.2)</pre><b>In a Jupyter environment, please rerun this cell to show the HTML representation or trust the notebook. <br />On GitHub, the HTML representation is unable to render, please try loading this page with nbviewer.org.</b></div><div class=\"sk-container\" hidden><div class=\"sk-item sk-dashed-wrapped\"><div class=\"sk-label-container\"><div class=\"sk-label sk-toggleable\"><input class=\"sk-toggleable__control sk-hidden--visually\" id=\"sk-estimator-id-24\" type=\"checkbox\" ><label for=\"sk-estimator-id-24\" class=\"sk-toggleable__label sk-toggleable__label-arrow\">AdaBoostClassifier</label><div class=\"sk-toggleable__content\"><pre>AdaBoostClassifier(base_estimator=DecisionTreeClassifier(max_depth=10),\n",
       "                   learning_rate=0.2)</pre></div></div></div><div class=\"sk-parallel\"><div class=\"sk-parallel-item\"><div class=\"sk-item\"><div class=\"sk-label-container\"><div class=\"sk-label sk-toggleable\"><input class=\"sk-toggleable__control sk-hidden--visually\" id=\"sk-estimator-id-25\" type=\"checkbox\" ><label for=\"sk-estimator-id-25\" class=\"sk-toggleable__label sk-toggleable__label-arrow\">base_estimator: DecisionTreeClassifier</label><div class=\"sk-toggleable__content\"><pre>DecisionTreeClassifier(max_depth=10)</pre></div></div></div><div class=\"sk-serial\"><div class=\"sk-item\"><div class=\"sk-estimator sk-toggleable\"><input class=\"sk-toggleable__control sk-hidden--visually\" id=\"sk-estimator-id-26\" type=\"checkbox\" ><label for=\"sk-estimator-id-26\" class=\"sk-toggleable__label sk-toggleable__label-arrow\">DecisionTreeClassifier</label><div class=\"sk-toggleable__content\"><pre>DecisionTreeClassifier(max_depth=10)</pre></div></div></div></div></div></div></div></div></div></div>"
      ],
      "text/plain": [
       "AdaBoostClassifier(base_estimator=DecisionTreeClassifier(max_depth=10),\n",
       "                   learning_rate=0.2)"
      ]
     },
     "execution_count": 60,
     "metadata": {},
     "output_type": "execute_result"
    }
   ],
   "source": [
    "adaboost_classifier.fit(x_train, y_train)"
   ]
  },
  {
   "cell_type": "code",
   "execution_count": 61,
   "id": "f93209dd",
   "metadata": {},
   "outputs": [
    {
     "name": "stdout",
     "output_type": "stream",
     "text": [
      "accuracy: 0.565\n"
     ]
    }
   ],
   "source": [
    "y_pred=adaboost_classifier.predict(x_test)\n",
    "accuracy=accuracy_score(y_test,y_pred)\n",
    "print(\"accuracy:\",accuracy)"
   ]
  },
  {
   "cell_type": "code",
   "execution_count": 78,
   "id": "816c999c",
   "metadata": {},
   "outputs": [],
   "source": [
    "base_classifier = LogisticRegression()\n",
    "\n",
    "\n",
    "# Create an AdaBoost classifier\n",
    "adaboost_classifier = AdaBoostClassifier(base_estimator=base_classifier, n_estimators=100, learning_rate=1.0)\n"
   ]
  },
  {
   "cell_type": "code",
   "execution_count": 79,
   "id": "289838a8",
   "metadata": {},
   "outputs": [
    {
     "name": "stderr",
     "output_type": "stream",
     "text": [
      "C:\\Users\\prana\\Desktop\\New folder\\Lib\\site-packages\\sklearn\\ensemble\\_base.py:156: FutureWarning: `base_estimator` was renamed to `estimator` in version 1.2 and will be removed in 1.4.\n",
      "  warnings.warn(\n",
      "C:\\Users\\prana\\Desktop\\New folder\\Lib\\site-packages\\sklearn\\linear_model\\_logistic.py:460: ConvergenceWarning: lbfgs failed to converge (status=1):\n",
      "STOP: TOTAL NO. of ITERATIONS REACHED LIMIT.\n",
      "\n",
      "Increase the number of iterations (max_iter) or scale the data as shown in:\n",
      "    https://scikit-learn.org/stable/modules/preprocessing.html\n",
      "Please also refer to the documentation for alternative solver options:\n",
      "    https://scikit-learn.org/stable/modules/linear_model.html#logistic-regression\n",
      "  n_iter_i = _check_optimize_result(\n"
     ]
    },
    {
     "data": {
      "text/html": [
       "<style>#sk-container-id-16 {color: black;}#sk-container-id-16 pre{padding: 0;}#sk-container-id-16 div.sk-toggleable {background-color: white;}#sk-container-id-16 label.sk-toggleable__label {cursor: pointer;display: block;width: 100%;margin-bottom: 0;padding: 0.3em;box-sizing: border-box;text-align: center;}#sk-container-id-16 label.sk-toggleable__label-arrow:before {content: \"▸\";float: left;margin-right: 0.25em;color: #696969;}#sk-container-id-16 label.sk-toggleable__label-arrow:hover:before {color: black;}#sk-container-id-16 div.sk-estimator:hover label.sk-toggleable__label-arrow:before {color: black;}#sk-container-id-16 div.sk-toggleable__content {max-height: 0;max-width: 0;overflow: hidden;text-align: left;background-color: #f0f8ff;}#sk-container-id-16 div.sk-toggleable__content pre {margin: 0.2em;color: black;border-radius: 0.25em;background-color: #f0f8ff;}#sk-container-id-16 input.sk-toggleable__control:checked~div.sk-toggleable__content {max-height: 200px;max-width: 100%;overflow: auto;}#sk-container-id-16 input.sk-toggleable__control:checked~label.sk-toggleable__label-arrow:before {content: \"▾\";}#sk-container-id-16 div.sk-estimator input.sk-toggleable__control:checked~label.sk-toggleable__label {background-color: #d4ebff;}#sk-container-id-16 div.sk-label input.sk-toggleable__control:checked~label.sk-toggleable__label {background-color: #d4ebff;}#sk-container-id-16 input.sk-hidden--visually {border: 0;clip: rect(1px 1px 1px 1px);clip: rect(1px, 1px, 1px, 1px);height: 1px;margin: -1px;overflow: hidden;padding: 0;position: absolute;width: 1px;}#sk-container-id-16 div.sk-estimator {font-family: monospace;background-color: #f0f8ff;border: 1px dotted black;border-radius: 0.25em;box-sizing: border-box;margin-bottom: 0.5em;}#sk-container-id-16 div.sk-estimator:hover {background-color: #d4ebff;}#sk-container-id-16 div.sk-parallel-item::after {content: \"\";width: 100%;border-bottom: 1px solid gray;flex-grow: 1;}#sk-container-id-16 div.sk-label:hover label.sk-toggleable__label {background-color: #d4ebff;}#sk-container-id-16 div.sk-serial::before {content: \"\";position: absolute;border-left: 1px solid gray;box-sizing: border-box;top: 0;bottom: 0;left: 50%;z-index: 0;}#sk-container-id-16 div.sk-serial {display: flex;flex-direction: column;align-items: center;background-color: white;padding-right: 0.2em;padding-left: 0.2em;position: relative;}#sk-container-id-16 div.sk-item {position: relative;z-index: 1;}#sk-container-id-16 div.sk-parallel {display: flex;align-items: stretch;justify-content: center;background-color: white;position: relative;}#sk-container-id-16 div.sk-item::before, #sk-container-id-16 div.sk-parallel-item::before {content: \"\";position: absolute;border-left: 1px solid gray;box-sizing: border-box;top: 0;bottom: 0;left: 50%;z-index: -1;}#sk-container-id-16 div.sk-parallel-item {display: flex;flex-direction: column;z-index: 1;position: relative;background-color: white;}#sk-container-id-16 div.sk-parallel-item:first-child::after {align-self: flex-end;width: 50%;}#sk-container-id-16 div.sk-parallel-item:last-child::after {align-self: flex-start;width: 50%;}#sk-container-id-16 div.sk-parallel-item:only-child::after {width: 0;}#sk-container-id-16 div.sk-dashed-wrapped {border: 1px dashed gray;margin: 0 0.4em 0.5em 0.4em;box-sizing: border-box;padding-bottom: 0.4em;background-color: white;}#sk-container-id-16 div.sk-label label {font-family: monospace;font-weight: bold;display: inline-block;line-height: 1.2em;}#sk-container-id-16 div.sk-label-container {text-align: center;}#sk-container-id-16 div.sk-container {/* jupyter's `normalize.less` sets `[hidden] { display: none; }` but bootstrap.min.css set `[hidden] { display: none !important; }` so we also need the `!important` here to be able to override the default hidden behavior on the sphinx rendered scikit-learn.org. See: https://github.com/scikit-learn/scikit-learn/issues/21755 */display: inline-block !important;position: relative;}#sk-container-id-16 div.sk-text-repr-fallback {display: none;}</style><div id=\"sk-container-id-16\" class=\"sk-top-container\"><div class=\"sk-text-repr-fallback\"><pre>AdaBoostClassifier(base_estimator=LogisticRegression(), n_estimators=100)</pre><b>In a Jupyter environment, please rerun this cell to show the HTML representation or trust the notebook. <br />On GitHub, the HTML representation is unable to render, please try loading this page with nbviewer.org.</b></div><div class=\"sk-container\" hidden><div class=\"sk-item sk-dashed-wrapped\"><div class=\"sk-label-container\"><div class=\"sk-label sk-toggleable\"><input class=\"sk-toggleable__control sk-hidden--visually\" id=\"sk-estimator-id-42\" type=\"checkbox\" ><label for=\"sk-estimator-id-42\" class=\"sk-toggleable__label sk-toggleable__label-arrow\">AdaBoostClassifier</label><div class=\"sk-toggleable__content\"><pre>AdaBoostClassifier(base_estimator=LogisticRegression(), n_estimators=100)</pre></div></div></div><div class=\"sk-parallel\"><div class=\"sk-parallel-item\"><div class=\"sk-item\"><div class=\"sk-label-container\"><div class=\"sk-label sk-toggleable\"><input class=\"sk-toggleable__control sk-hidden--visually\" id=\"sk-estimator-id-43\" type=\"checkbox\" ><label for=\"sk-estimator-id-43\" class=\"sk-toggleable__label sk-toggleable__label-arrow\">base_estimator: LogisticRegression</label><div class=\"sk-toggleable__content\"><pre>LogisticRegression()</pre></div></div></div><div class=\"sk-serial\"><div class=\"sk-item\"><div class=\"sk-estimator sk-toggleable\"><input class=\"sk-toggleable__control sk-hidden--visually\" id=\"sk-estimator-id-44\" type=\"checkbox\" ><label for=\"sk-estimator-id-44\" class=\"sk-toggleable__label sk-toggleable__label-arrow\">LogisticRegression</label><div class=\"sk-toggleable__content\"><pre>LogisticRegression()</pre></div></div></div></div></div></div></div></div></div></div>"
      ],
      "text/plain": [
       "AdaBoostClassifier(base_estimator=LogisticRegression(), n_estimators=100)"
      ]
     },
     "execution_count": 79,
     "metadata": {},
     "output_type": "execute_result"
    }
   ],
   "source": [
    "adaboost_classifier.fit(x_train, y_train)"
   ]
  },
  {
   "cell_type": "code",
   "execution_count": 80,
   "id": "351b3966",
   "metadata": {},
   "outputs": [
    {
     "name": "stdout",
     "output_type": "stream",
     "text": [
      "accuracy: 0.53\n"
     ]
    }
   ],
   "source": [
    "y_pred=adaboost_classifier.predict(x_test)\n",
    "accuracy=accuracy_score(y_test,y_pred)\n",
    "print(\"accuracy:\",accuracy)"
   ]
  },
  {
   "cell_type": "code",
   "execution_count": null,
   "id": "1b4a6fac",
   "metadata": {},
   "outputs": [],
   "source": []
  }
 ],
 "metadata": {
  "kernelspec": {
   "display_name": "Python 3 (ipykernel)",
   "language": "python",
   "name": "python3"
  },
  "language_info": {
   "codemirror_mode": {
    "name": "ipython",
    "version": 3
   },
   "file_extension": ".py",
   "mimetype": "text/x-python",
   "name": "python",
   "nbconvert_exporter": "python",
   "pygments_lexer": "ipython3",
   "version": "3.11.4"
  }
 },
 "nbformat": 4,
 "nbformat_minor": 5
}
